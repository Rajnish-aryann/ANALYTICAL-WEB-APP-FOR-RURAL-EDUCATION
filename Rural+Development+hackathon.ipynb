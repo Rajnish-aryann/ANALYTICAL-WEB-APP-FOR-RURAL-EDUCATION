{
 "cells": [
  {
   "cell_type": "markdown",
   "metadata": {},
   "source": [
    "# Rural Development Education Analytical Model to solve all problems, find out best teachers and keep Rural Education happening sincerely and regularly\n",
    "\n",
    "# Debadri Dutta\n"
   ]
  },
  {
   "cell_type": "markdown",
   "metadata": {},
   "source": [
    "## Analyzing Problems and coming up with solution in a more precise, accurate and efficient way"
   ]
  },
  {
   "cell_type": "markdown",
   "metadata": {},
   "source": [
    "### Importing the dataset from our MySQL database"
   ]
  },
  {
   "cell_type": "code",
   "execution_count": 1,
   "metadata": {
    "collapsed": true
   },
   "outputs": [],
   "source": [
    "import pandas as pd\n",
    "import numpy as np\n",
    "import matplotlib.pyplot as plt\n",
    "%matplotlib inline"
   ]
  },
  {
   "cell_type": "code",
   "execution_count": 2,
   "metadata": {
    "collapsed": true
   },
   "outputs": [],
   "source": [
    "feedback=pd.read_csv(\"ruraleducation.csv\")"
   ]
  },
  {
   "cell_type": "code",
   "execution_count": 3,
   "metadata": {},
   "outputs": [
    {
     "data": {
      "text/html": [
       "<div>\n",
       "<style>\n",
       "    .dataframe thead tr:only-child th {\n",
       "        text-align: right;\n",
       "    }\n",
       "\n",
       "    .dataframe thead th {\n",
       "        text-align: left;\n",
       "    }\n",
       "\n",
       "    .dataframe tbody tr th {\n",
       "        vertical-align: top;\n",
       "    }\n",
       "</style>\n",
       "<table border=\"1\" class=\"dataframe\">\n",
       "  <thead>\n",
       "    <tr style=\"text-align: right;\">\n",
       "      <th></th>\n",
       "      <th>StudentID</th>\n",
       "      <th>timedate</th>\n",
       "      <th>Problem</th>\n",
       "      <th>Location</th>\n",
       "      <th>Zone</th>\n",
       "      <th>Description</th>\n",
       "    </tr>\n",
       "  </thead>\n",
       "  <tbody>\n",
       "    <tr>\n",
       "      <th>0</th>\n",
       "      <td>1504469</td>\n",
       "      <td>14-02-2018 00:00</td>\n",
       "      <td>Teachers</td>\n",
       "      <td>Birbhum</td>\n",
       "      <td>Zone 1</td>\n",
       "      <td>Teacher is irregular</td>\n",
       "    </tr>\n",
       "    <tr>\n",
       "      <th>1</th>\n",
       "      <td>1504012</td>\n",
       "      <td>18-02-2018 00:00</td>\n",
       "      <td>Teachers</td>\n",
       "      <td>Birbhum</td>\n",
       "      <td>Zone 1</td>\n",
       "      <td>Teacher is irregular</td>\n",
       "    </tr>\n",
       "    <tr>\n",
       "      <th>2</th>\n",
       "      <td>1504469</td>\n",
       "      <td>18-02-2018 00:00</td>\n",
       "      <td>Teachers</td>\n",
       "      <td>Birbhum</td>\n",
       "      <td>Zone 1</td>\n",
       "      <td>Teacher is irregular</td>\n",
       "    </tr>\n",
       "    <tr>\n",
       "      <th>3</th>\n",
       "      <td>1507185</td>\n",
       "      <td>18-02-2018 00:00</td>\n",
       "      <td>Classrooms</td>\n",
       "      <td>Birbhum</td>\n",
       "      <td>Zone 1</td>\n",
       "      <td>Water leaking from rooftop</td>\n",
       "    </tr>\n",
       "    <tr>\n",
       "      <th>4</th>\n",
       "      <td>1504368</td>\n",
       "      <td>18-02-2018 00:00</td>\n",
       "      <td>Washrooms</td>\n",
       "      <td>Bankura</td>\n",
       "      <td>Zone 3</td>\n",
       "      <td>unclean washrooms</td>\n",
       "    </tr>\n",
       "  </tbody>\n",
       "</table>\n",
       "</div>"
      ],
      "text/plain": [
       "   StudentID          timedate     Problem Location    Zone  \\\n",
       "0    1504469  14-02-2018 00:00    Teachers  Birbhum  Zone 1   \n",
       "1    1504012  18-02-2018 00:00    Teachers  Birbhum  Zone 1   \n",
       "2    1504469  18-02-2018 00:00    Teachers  Birbhum  Zone 1   \n",
       "3    1507185  18-02-2018 00:00  Classrooms  Birbhum  Zone 1   \n",
       "4    1504368  18-02-2018 00:00   Washrooms  Bankura  Zone 3   \n",
       "\n",
       "                  Description  \n",
       "0        Teacher is irregular  \n",
       "1        Teacher is irregular  \n",
       "2        Teacher is irregular  \n",
       "3  Water leaking from rooftop  \n",
       "4           unclean washrooms  "
      ]
     },
     "execution_count": 3,
     "metadata": {},
     "output_type": "execute_result"
    }
   ],
   "source": [
    "feedback.head()"
   ]
  },
  {
   "cell_type": "markdown",
   "metadata": {},
   "source": [
    "### We find out what are the major problems"
   ]
  },
  {
   "cell_type": "code",
   "execution_count": 4,
   "metadata": {},
   "outputs": [
    {
     "data": {
      "text/plain": [
       "Teachers                5\n",
       "Classrooms              3\n",
       "Books                   1\n",
       "Electricity or Water    1\n",
       "Washrooms               1\n",
       "Finance                 1\n",
       "Name: Problem, dtype: int64"
      ]
     },
     "execution_count": 4,
     "metadata": {},
     "output_type": "execute_result"
    }
   ],
   "source": [
    "feedback['Problem'].value_counts()"
   ]
  },
  {
   "cell_type": "code",
   "execution_count": 5,
   "metadata": {},
   "outputs": [
    {
     "data": {
      "image/png": "[encoded data removed]",
      "text/plain": [
       "<matplotlib.figure.Figure at 0x29d1da7fcf8>"
      ]
     },
     "metadata": {},
     "output_type": "display_data"
    }
   ],
   "source": [
    "plt.figure(figsize=(10,5))\n",
    "y=feedback['Problem'].value_counts()\n",
    "yd=feedback['Problem'].unique()\n",
    "p=feedback['Problem'].nunique()\n",
    "d=np.linspace(1,p,p)\n",
    "plt.bar(d,y,align='center')\n",
    "plt.xticks(d,yd,rotation=45)\n",
    "plt.xlabel('Type of Problem')\n",
    "plt.ylabel('No. of Complaints')\n",
    "plt.title('Maximum Complaints')\n",
    "plt.rcParams.update({'font.size': 10})\n",
    "plt.show()"
   ]
  },
  {
   "cell_type": "code",
   "execution_count": 6,
   "metadata": {},
   "outputs": [
    {
     "data": {
      "text/plain": [
       "0                            Teacher is irregular\n",
       "1                            Teacher is irregular\n",
       "2                            Teacher is irregular\n",
       "3                      Water leaking from rooftop\n",
       "4                               unclean washrooms\n",
       "5                     fans and lights not working\n",
       "6            Books very bad condition, unreadable\n",
       "7                              Teacher not coming\n",
       "8     Broken walls and water leaking from rooftop\n",
       "9                     Teacher not coming everyday\n",
       "10                                 Books very bad\n",
       "11                       Too small, space problem\n",
       "Name: Description, dtype: object"
      ]
     },
     "execution_count": 6,
     "metadata": {},
     "output_type": "execute_result"
    }
   ],
   "source": [
    "feedback['Description']"
   ]
  },
  {
   "cell_type": "markdown",
   "metadata": {},
   "source": [
    "### Data Pre-Processing"
   ]
  },
  {
   "cell_type": "code",
   "execution_count": 7,
   "metadata": {
    "collapsed": true
   },
   "outputs": [],
   "source": [
    "feedback['timedate']=feedback['timedate'].str[:11]"
   ]
  },
  {
   "cell_type": "code",
   "execution_count": 8,
   "metadata": {},
   "outputs": [
    {
     "data": {
      "text/html": [
       "<div>\n",
       "<style>\n",
       "    .dataframe thead tr:only-child th {\n",
       "        text-align: right;\n",
       "    }\n",
       "\n",
       "    .dataframe thead th {\n",
       "        text-align: left;\n",
       "    }\n",
       "\n",
       "    .dataframe tbody tr th {\n",
       "        vertical-align: top;\n",
       "    }\n",
       "</style>\n",
       "<table border=\"1\" class=\"dataframe\">\n",
       "  <thead>\n",
       "    <tr style=\"text-align: right;\">\n",
       "      <th></th>\n",
       "      <th>StudentID</th>\n",
       "      <th>timedate</th>\n",
       "      <th>Problem</th>\n",
       "      <th>Location</th>\n",
       "      <th>Zone</th>\n",
       "      <th>Description</th>\n",
       "    </tr>\n",
       "  </thead>\n",
       "  <tbody>\n",
       "    <tr>\n",
       "      <th>0</th>\n",
       "      <td>1504469</td>\n",
       "      <td>14-02-2018</td>\n",
       "      <td>Teachers</td>\n",
       "      <td>Birbhum</td>\n",
       "      <td>Zone 1</td>\n",
       "      <td>Teacher is irregular</td>\n",
       "    </tr>\n",
       "    <tr>\n",
       "      <th>1</th>\n",
       "      <td>1504012</td>\n",
       "      <td>18-02-2018</td>\n",
       "      <td>Teachers</td>\n",
       "      <td>Birbhum</td>\n",
       "      <td>Zone 1</td>\n",
       "      <td>Teacher is irregular</td>\n",
       "    </tr>\n",
       "    <tr>\n",
       "      <th>2</th>\n",
       "      <td>1504469</td>\n",
       "      <td>18-02-2018</td>\n",
       "      <td>Teachers</td>\n",
       "      <td>Birbhum</td>\n",
       "      <td>Zone 1</td>\n",
       "      <td>Teacher is irregular</td>\n",
       "    </tr>\n",
       "    <tr>\n",
       "      <th>3</th>\n",
       "      <td>1507185</td>\n",
       "      <td>18-02-2018</td>\n",
       "      <td>Classrooms</td>\n",
       "      <td>Birbhum</td>\n",
       "      <td>Zone 1</td>\n",
       "      <td>Water leaking from rooftop</td>\n",
       "    </tr>\n",
       "    <tr>\n",
       "      <th>4</th>\n",
       "      <td>1504368</td>\n",
       "      <td>18-02-2018</td>\n",
       "      <td>Washrooms</td>\n",
       "      <td>Bankura</td>\n",
       "      <td>Zone 3</td>\n",
       "      <td>unclean washrooms</td>\n",
       "    </tr>\n",
       "  </tbody>\n",
       "</table>\n",
       "</div>"
      ],
      "text/plain": [
       "   StudentID     timedate     Problem Location    Zone  \\\n",
       "0    1504469  14-02-2018     Teachers  Birbhum  Zone 1   \n",
       "1    1504012  18-02-2018     Teachers  Birbhum  Zone 1   \n",
       "2    1504469  18-02-2018     Teachers  Birbhum  Zone 1   \n",
       "3    1507185  18-02-2018   Classrooms  Birbhum  Zone 1   \n",
       "4    1504368  18-02-2018    Washrooms  Bankura  Zone 3   \n",
       "\n",
       "                  Description  \n",
       "0        Teacher is irregular  \n",
       "1        Teacher is irregular  \n",
       "2        Teacher is irregular  \n",
       "3  Water leaking from rooftop  \n",
       "4           unclean washrooms  "
      ]
     },
     "execution_count": 8,
     "metadata": {},
     "output_type": "execute_result"
    }
   ],
   "source": [
    "feedback.head()"
   ]
  },
  {
   "cell_type": "code",
   "execution_count": 9,
   "metadata": {},
   "outputs": [
    {
     "data": {
      "text/plain": [
       "StudentID       int64\n",
       "timedate       object\n",
       "Problem        object\n",
       "Location       object\n",
       "Zone           object\n",
       "Description    object\n",
       "dtype: object"
      ]
     },
     "execution_count": 9,
     "metadata": {},
     "output_type": "execute_result"
    }
   ],
   "source": [
    "feedback.dtypes"
   ]
  },
  {
   "cell_type": "code",
   "execution_count": 10,
   "metadata": {
    "collapsed": true
   },
   "outputs": [],
   "source": [
    "feedback['timedate'] = pd.to_datetime(feedback['timedate'])"
   ]
  },
  {
   "cell_type": "markdown",
   "metadata": {},
   "source": [
    "### We find out whether the problem is actually getting solved or not and for example we see that teachers problem is being repeated almost every week"
   ]
  },
  {
   "cell_type": "code",
   "execution_count": 11,
   "metadata": {},
   "outputs": [
    {
     "data": {
      "text/plain": [
       "0   2018-02-14\n",
       "1   2018-02-18\n",
       "2   2018-02-18\n",
       "7   2018-02-19\n",
       "9   2018-02-21\n",
       "Name: timedate, dtype: datetime64[ns]"
      ]
     },
     "execution_count": 11,
     "metadata": {},
     "output_type": "execute_result"
    }
   ],
   "source": [
    "feedback.loc[feedback['Problem'] == 'Teachers', 'timedate']"
   ]
  },
  {
   "cell_type": "code",
   "execution_count": 12,
   "metadata": {},
   "outputs": [
    {
     "data": {
      "text/plain": [
       "0    1504469\n",
       "1    1504012\n",
       "2    1504469\n",
       "7    1503222\n",
       "9    1506322\n",
       "Name: StudentID, dtype: int64"
      ]
     },
     "execution_count": 12,
     "metadata": {},
     "output_type": "execute_result"
    }
   ],
   "source": [
    "feedback.loc[feedback['Problem'] == 'Teachers', 'StudentID']"
   ]
  },
  {
   "cell_type": "code",
   "execution_count": 13,
   "metadata": {},
   "outputs": [
    {
     "data": {
      "text/plain": [
       "3    2018-02-18\n",
       "8    2018-02-19\n",
       "11   2018-02-23\n",
       "Name: timedate, dtype: datetime64[ns]"
      ]
     },
     "execution_count": 13,
     "metadata": {},
     "output_type": "execute_result"
    }
   ],
   "source": [
    "feedback.loc[feedback['Problem'] == 'Classrooms', 'timedate']"
   ]
  },
  {
   "cell_type": "code",
   "execution_count": 14,
   "metadata": {},
   "outputs": [
    {
     "data": {
      "text/plain": [
       "3     1507185\n",
       "8     1505456\n",
       "11    1505226\n",
       "Name: StudentID, dtype: int64"
      ]
     },
     "execution_count": 14,
     "metadata": {},
     "output_type": "execute_result"
    }
   ],
   "source": [
    "feedback.loc[feedback['Problem'] == 'Classrooms', 'StudentID']"
   ]
  },
  {
   "cell_type": "markdown",
   "metadata": {},
   "source": [
    "### Location wise Maximum problems"
   ]
  },
  {
   "cell_type": "code",
   "execution_count": 15,
   "metadata": {},
   "outputs": [
    {
     "data": {
      "text/plain": [
       "0      Teachers\n",
       "1      Teachers\n",
       "2      Teachers\n",
       "3    Classrooms\n",
       "9      Teachers\n",
       "Name: Problem, dtype: object"
      ]
     },
     "execution_count": 15,
     "metadata": {},
     "output_type": "execute_result"
    }
   ],
   "source": [
    "feedback.loc[feedback['Location'] == 'Birbhum', 'Problem']"
   ]
  },
  {
   "cell_type": "code",
   "execution_count": 16,
   "metadata": {},
   "outputs": [
    {
     "data": {
      "image/png": "[encoded data removed]",
      "text/plain": [
       "<matplotlib.figure.Figure at 0x29d1de703c8>"
      ]
     },
     "metadata": {},
     "output_type": "display_data"
    }
   ],
   "source": [
    "plt.figure(figsize=(10,5))\n",
    "y=feedback['Location'].value_counts()\n",
    "yd=feedback['Location'].unique()\n",
    "p=feedback['Location'].nunique()\n",
    "d=np.linspace(1,p,p)\n",
    "plt.bar(d,y,align='center')\n",
    "plt.xticks(d,yd,rotation=45)\n",
    "plt.xlabel('Problem Location')\n",
    "plt.ylabel('No. of Complaints')\n",
    "plt.title('Maximum Complaints in a Location')\n",
    "plt.rcParams.update({'font.size': 10})\n",
    "plt.show()"
   ]
  },
  {
   "cell_type": "code",
   "execution_count": 17,
   "metadata": {
    "collapsed": true
   },
   "outputs": [],
   "source": [
    "feedloc = feedback['Location'] == \"Birbhum\""
   ]
  },
  {
   "cell_type": "markdown",
   "metadata": {},
   "source": [
    "### Going in depth finding out which zone major problems are happening"
   ]
  },
  {
   "cell_type": "code",
   "execution_count": 18,
   "metadata": {},
   "outputs": [
    {
     "data": {
      "text/plain": [
       "Zone 1    5\n",
       "Name: Zone, dtype: int64"
      ]
     },
     "execution_count": 18,
     "metadata": {},
     "output_type": "execute_result"
    }
   ],
   "source": [
    "feedback[feedloc].Zone.value_counts()"
   ]
  },
  {
   "cell_type": "code",
   "execution_count": 19,
   "metadata": {},
   "outputs": [
    {
     "data": {
      "text/plain": [
       "Teachers      4\n",
       "Classrooms    1\n",
       "Name: Problem, dtype: int64"
      ]
     },
     "execution_count": 19,
     "metadata": {},
     "output_type": "execute_result"
    }
   ],
   "source": [
    "feedback[feedloc].Problem.value_counts()"
   ]
  },
  {
   "cell_type": "code",
   "execution_count": 20,
   "metadata": {
    "collapsed": true
   },
   "outputs": [],
   "source": [
    "feedloc = feedback['Location'] == \"Bankura\""
   ]
  },
  {
   "cell_type": "code",
   "execution_count": 21,
   "metadata": {},
   "outputs": [
    {
     "data": {
      "text/plain": [
       "Zone 3    2\n",
       "Zone 2    1\n",
       "Zone 1    1\n",
       "Name: Zone, dtype: int64"
      ]
     },
     "execution_count": 21,
     "metadata": {},
     "output_type": "execute_result"
    }
   ],
   "source": [
    "feedback[feedloc].Zone.value_counts()"
   ]
  },
  {
   "cell_type": "code",
   "execution_count": 22,
   "metadata": {},
   "outputs": [
    {
     "data": {
      "text/plain": [
       "Classrooms    2\n",
       "Washrooms     1\n",
       "Teachers      1\n",
       "Name: Problem, dtype: int64"
      ]
     },
     "execution_count": 22,
     "metadata": {},
     "output_type": "execute_result"
    }
   ],
   "source": [
    "feedback[feedloc].Problem.value_counts()"
   ]
  },
  {
   "cell_type": "code",
   "execution_count": 23,
   "metadata": {
    "collapsed": true
   },
   "outputs": [],
   "source": [
    "feedloc = feedback['Location'] == \"Burdwan\""
   ]
  },
  {
   "cell_type": "code",
   "execution_count": 24,
   "metadata": {},
   "outputs": [
    {
     "data": {
      "text/plain": [
       "Zone 3    2\n",
       "Zone 2    1\n",
       "Name: Zone, dtype: int64"
      ]
     },
     "execution_count": 24,
     "metadata": {},
     "output_type": "execute_result"
    }
   ],
   "source": [
    "feedback[feedloc].Zone.value_counts()"
   ]
  },
  {
   "cell_type": "code",
   "execution_count": 25,
   "metadata": {},
   "outputs": [
    {
     "data": {
      "text/plain": [
       "Finance                 1\n",
       "Books                   1\n",
       "Electricity or Water    1\n",
       "Name: Problem, dtype: int64"
      ]
     },
     "execution_count": 25,
     "metadata": {},
     "output_type": "execute_result"
    }
   ],
   "source": [
    "feedback[feedloc].Problem.value_counts()"
   ]
  },
  {
   "cell_type": "markdown",
   "metadata": {},
   "source": [
    "### That comes to the end of the data analyzing part. We find out the major problems that are hampering the education, whether the problem is getting solved or not. This is a more constructive way to find out the problems, to provide a solution, finding out the location where education is not happening properly. Analytics does it in a better way which helps us work in a more efficient way, in a precise manner and helps in solving problems and keeping the flow steady."
   ]
  },
  {
   "cell_type": "markdown",
   "metadata": {},
   "source": [
    "--------------------------------------------------------------------------------------------------------------------------------"
   ]
  },
  {
   "cell_type": "markdown",
   "metadata": {},
   "source": [
    "## Analyzing Teachers data to find out the best suitable teachers"
   ]
  },
  {
   "cell_type": "markdown",
   "metadata": {},
   "source": [
    "### Importing dataset"
   ]
  },
  {
   "cell_type": "code",
   "execution_count": 26,
   "metadata": {
    "collapsed": true
   },
   "outputs": [],
   "source": [
    "teachers=pd.read_csv(\"teachers.csv\")"
   ]
  },
  {
   "cell_type": "code",
   "execution_count": 27,
   "metadata": {},
   "outputs": [
    {
     "data": {
      "text/html": [
       "<div>\n",
       "<style>\n",
       "    .dataframe thead tr:only-child th {\n",
       "        text-align: right;\n",
       "    }\n",
       "\n",
       "    .dataframe thead th {\n",
       "        text-align: left;\n",
       "    }\n",
       "\n",
       "    .dataframe tbody tr th {\n",
       "        vertical-align: top;\n",
       "    }\n",
       "</style>\n",
       "<table border=\"1\" class=\"dataframe\">\n",
       "  <thead>\n",
       "    <tr style=\"text-align: right;\">\n",
       "      <th></th>\n",
       "      <th>Name</th>\n",
       "      <th>email</th>\n",
       "      <th>phone</th>\n",
       "      <th>subject</th>\n",
       "      <th>education</th>\n",
       "      <th>location</th>\n",
       "      <th>hours</th>\n",
       "    </tr>\n",
       "  </thead>\n",
       "  <tbody>\n",
       "    <tr>\n",
       "      <th>0</th>\n",
       "      <td>Debadri Dutta</td>\n",
       "      <td>debadridtt@gmail.com</td>\n",
       "      <td>9163502631</td>\n",
       "      <td>Maths &amp; Sciences</td>\n",
       "      <td>Bachelors</td>\n",
       "      <td>Birbhum</td>\n",
       "      <td>5</td>\n",
       "    </tr>\n",
       "    <tr>\n",
       "      <th>1</th>\n",
       "      <td>Barnik Bhattacharya</td>\n",
       "      <td>barnik.ohm@gmail.com</td>\n",
       "      <td>8240518774</td>\n",
       "      <td>English</td>\n",
       "      <td>Bachelors</td>\n",
       "      <td>Bankura</td>\n",
       "      <td>5</td>\n",
       "    </tr>\n",
       "    <tr>\n",
       "      <th>2</th>\n",
       "      <td>Shatyoki Bhattacharya</td>\n",
       "      <td>shatyoki@gmail.com</td>\n",
       "      <td>7205740621</td>\n",
       "      <td>Maths &amp; Sciences</td>\n",
       "      <td>Bachelors</td>\n",
       "      <td>Birbhum</td>\n",
       "      <td>5</td>\n",
       "    </tr>\n",
       "    <tr>\n",
       "      <th>3</th>\n",
       "      <td>Anish Chattopadhyay</td>\n",
       "      <td>anishc.234@gmail.com</td>\n",
       "      <td>8961525762</td>\n",
       "      <td>Maths &amp; Sciences</td>\n",
       "      <td>Bachelors</td>\n",
       "      <td>Bankura</td>\n",
       "      <td>5</td>\n",
       "    </tr>\n",
       "    <tr>\n",
       "      <th>4</th>\n",
       "      <td>Gautam Dutta</td>\n",
       "      <td>gautam.primesinger@gmail.com</td>\n",
       "      <td>9831110434</td>\n",
       "      <td>Maths &amp; Sciences</td>\n",
       "      <td>Masters</td>\n",
       "      <td>Hughli</td>\n",
       "      <td>2</td>\n",
       "    </tr>\n",
       "  </tbody>\n",
       "</table>\n",
       "</div>"
      ],
      "text/plain": [
       "                    Name                         email       phone  \\\n",
       "0          Debadri Dutta          debadridtt@gmail.com  9163502631   \n",
       "1    Barnik Bhattacharya          barnik.ohm@gmail.com  8240518774   \n",
       "2  Shatyoki Bhattacharya            shatyoki@gmail.com  7205740621   \n",
       "3    Anish Chattopadhyay          anishc.234@gmail.com  8961525762   \n",
       "4           Gautam Dutta  gautam.primesinger@gmail.com  9831110434   \n",
       "\n",
       "            subject  education location  hours  \n",
       "0  Maths & Sciences  Bachelors  Birbhum      5  \n",
       "1           English  Bachelors  Bankura      5  \n",
       "2  Maths & Sciences  Bachelors  Birbhum      5  \n",
       "3  Maths & Sciences  Bachelors  Bankura      5  \n",
       "4  Maths & Sciences    Masters   Hughli      2  "
      ]
     },
     "execution_count": 27,
     "metadata": {},
     "output_type": "execute_result"
    }
   ],
   "source": [
    "teachers.head()"
   ]
  },
  {
   "cell_type": "markdown",
   "metadata": {},
   "source": [
    "### Most demanding subject, teachers are looking forward to teach"
   ]
  },
  {
   "cell_type": "code",
   "execution_count": 29,
   "metadata": {},
   "outputs": [
    {
     "data": {
      "image/png": "[encoded data removed]",
      "text/plain": [
       "<matplotlib.figure.Figure at 0x29d1e0337b8>"
      ]
     },
     "metadata": {},
     "output_type": "display_data"
    }
   ],
   "source": [
    "plt.figure(figsize=(10,5))\n",
    "y=teachers['subject'].value_counts()\n",
    "yd=teachers['subject'].unique()\n",
    "p=teachers['subject'].nunique()\n",
    "d=np.linspace(1,p,p)\n",
    "plt.bar(d,y,align='center')\n",
    "plt.xticks(d,yd,rotation=45)\n",
    "plt.xlabel('Preferable Subjects')\n",
    "plt.ylabel('No. of People interested to teach')\n",
    "plt.title('Teachers available in each subject')\n",
    "plt.rcParams.update({'font.size': 10})\n",
    "plt.show()"
   ]
  },
  {
   "cell_type": "markdown",
   "metadata": {},
   "source": [
    "### Most preferred location by teachers"
   ]
  },
  {
   "cell_type": "code",
   "execution_count": 30,
   "metadata": {},
   "outputs": [
    {
     "data": {
      "image/png": "[encoded data removed]",
      "text/plain": [
       "<matplotlib.figure.Figure at 0x29d1f038f28>"
      ]
     },
     "metadata": {},
     "output_type": "display_data"
    }
   ],
   "source": [
    "plt.figure(figsize=(10,5))\n",
    "y=teachers['location'].value_counts()\n",
    "yd=teachers['location'].unique()\n",
    "p=teachers['location'].nunique()\n",
    "d=np.linspace(1,p,p)\n",
    "plt.bar(d,y,align='center')\n",
    "plt.xticks(d,yd,rotation=45)\n",
    "plt.xlabel('Preferable Location')\n",
    "plt.ylabel('No. of People interested for that Location')\n",
    "plt.title('Teachers available in each location')\n",
    "plt.rcParams.update({'font.size': 10})\n",
    "plt.show()"
   ]
  },
  {
   "cell_type": "markdown",
   "metadata": {},
   "source": [
    "### Choosing best teachers based on their educational qualification"
   ]
  },
  {
   "cell_type": "code",
   "execution_count": 31,
   "metadata": {
    "collapsed": true
   },
   "outputs": [
    {
     "data": {
      "image/png": "[encoded data removed]",
      "text/plain": [
       "<matplotlib.figure.Figure at 0x29d1f0c5668>"
      ]
     },
     "metadata": {},
     "output_type": "display_data"
    }
   ],
   "source": [
    "plt.figure(figsize=(10,5))\n",
    "y=teachers['education'].value_counts()\n",
    "yd=teachers['education'].unique()\n",
    "p=teachers['education'].nunique()\n",
    "d=np.linspace(1,p,p)\n",
    "plt.bar(d,y,align='center')\n",
    "plt.xticks(d,yd,rotation=45)\n",
    "plt.xlabel('Educational Degree')\n",
    "plt.ylabel('No. of People with degree')\n",
    "plt.title('Educational Qualification of Teachers')\n",
    "plt.rcParams.update({'font.size': 10})\n",
    "plt.show()"
   ]
  },
  {
   "cell_type": "markdown",
   "metadata": {},
   "source": [
    "### Time each teacher can devote so that routine can be set accordingly"
   ]
  },
  {
   "cell_type": "code",
   "execution_count": 34,
   "metadata": {},
   "outputs": [
    {
     "data": {
      "image/png": "[encoded data removed]",
      "text/plain": [
       "<matplotlib.figure.Figure at 0x29d1f26df98>"
      ]
     },
     "metadata": {},
     "output_type": "display_data"
    }
   ],
   "source": [
    "plt.figure(figsize=(8,4))\n",
    "y=teachers['hours'].value_counts()\n",
    "yd=teachers['hours'].unique()\n",
    "p=teachers['hours'].nunique()\n",
    "d=np.linspace(1,p,p)\n",
    "plt.bar(d,y,align='center')\n",
    "plt.xticks(d,yd)\n",
    "plt.xlabel('Hours that they can devote')\n",
    "plt.ylabel('No. of People')\n",
    "plt.title('Time Teachers can devote per week')\n",
    "plt.rcParams.update({'font.size': 12})\n",
    "plt.show()"
   ]
  },
  {
   "cell_type": "code",
   "execution_count": 36,
   "metadata": {},
   "outputs": [
    {
     "name": "stdout",
     "output_type": "stream",
     "text": [
      "Hours each teacher can devote per week on an avg. 4.5\n"
     ]
    }
   ],
   "source": [
    "print(\"Hours each teacher can devote per week on an avg.:\",teachers['hours'].mean())"
   ]
  },
  {
   "cell_type": "markdown",
   "metadata": {},
   "source": [
    "### So by analyzing the data we find out the best and the most suitable teachers, we can make the study routine accordingly so that the studyflow is spontaneous and flawless, and since problems related to teachers are maximum, this is a good way to solve the problem"
   ]
  },
  {
   "cell_type": "markdown",
   "metadata": {},
   "source": [
    "# Thank You"
   ]
  },
  {
   "cell_type": "code",
   "execution_count": null,
   "metadata": {
    "collapsed": true
   },
   "outputs": [],
   "source": []
  }
 ],
 "metadata": {
  "kernelspec": {
   "display_name": "Python 3",
   "language": "python",
   "name": "python3"
  },
  "language_info": {
   "codemirror_mode": {
    "name": "ipython",
    "version": 3
   },
   "file_extension": ".py",
   "mimetype": "text/x-python",
   "name": "python",
   "nbconvert_exporter": "python",
   "pygments_lexer": "ipython3",
   "version": "3.6.2"
  }
 },
 "nbformat": 4,
 "nbformat_minor": 2
}
